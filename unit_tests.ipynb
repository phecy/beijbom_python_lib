{
 "cells": [
  {
   "cell_type": "markdown",
   "metadata": {},
   "source": [
    "# This notebook contains tests for beijbom_lib"
   ]
  },
  {
   "cell_type": "markdown",
   "metadata": {},
   "source": [
    "## Testing cycle_runs"
   ]
  },
  {
   "cell_type": "code",
   "execution_count": 8,
   "metadata": {
    "collapsed": false
   },
   "outputs": [],
   "source": [
    "run_params = []\n",
    "run_params.append({'workdir':'/runs/demo/experiment1'})\n",
    "run_params.append({'workdir':'/runs/demo/experiment2'})\n",
    "\n",
    "test_params = []\n",
    "test_params.append({'workdir':'/runs/demo/experiment1', 'scorelayer':'fc8_ifcb'})\n",
    "test_params.append({'workdir':'/runs/demo/experiment2', 'scorelayer':'fc8_ifcb'})\n"
   ]
  },
  {
   "cell_type": "code",
   "execution_count": 4,
   "metadata": {
    "collapsed": true
   },
   "outputs": [
    {
     "name": "stdout",
     "output_type": "stream",
     "text": [
      "Running tests...\n",
      "Running /runs/demo/experiment1 from 70 to 74 itts.\n",
      "Running from iter 70.\n",
      "Classifying ./../vallist.txt from /runs/demo/experiment1/net.prototxt using snapshot_iter_74.caffemodel with bs:128, and 5 total instances.\n"
     ]
    },
    {
     "name": "stderr",
     "output_type": "stream",
     "text": [
      "                                                           "
     ]
    },
    {
     "name": "stdout",
     "output_type": "stream",
     "text": [
      "\r",
      "Classifying ./../testlist.txt from /runs/demo/experiment1/testnet.prototxt using snapshot_iter_74.caffemodel with bs:128, and 5 total instances.\n"
     ]
    },
    {
     "name": "stderr",
     "output_type": "stream",
     "text": [
      "                                                           "
     ]
    },
    {
     "name": "stdout",
     "output_type": "stream",
     "text": [
      "Running /runs/demo/experiment2 from 46 to 50 itts.\n",
      "Running from iter 46.\n",
      "Classifying ./../vallist2.txt from /runs/demo/experiment2/net.prototxt using snapshot_iter_50.caffemodel with bs:128, and 5 total instances.\n"
     ]
    },
    {
     "name": "stderr",
     "output_type": "stream",
     "text": [
      "                                                           "
     ]
    },
    {
     "name": "stdout",
     "output_type": "stream",
     "text": [
      "\r",
      "Classifying ./../testlist.txt from /runs/demo/experiment2/testnet.prototxt using snapshot_iter_50.caffemodel with bs:128, and 5 total instances.\n"
     ]
    },
    {
     "name": "stderr",
     "output_type": "stream",
     "text": [
      "                                                           "
     ]
    },
    {
     "name": "stdout",
     "output_type": "stream",
     "text": [
      "\r",
      "Run test OK. Cleaning up.\n"
     ]
    }
   ],
   "source": [
    "bct.cycle_runs_debug(run_params, test_params)"
   ]
  },
  {
   "cell_type": "code",
   "execution_count": 9,
   "metadata": {
    "collapsed": true
   },
   "outputs": [
    {
     "name": "stdout",
     "output_type": "stream",
     "text": [
      "Running /runs/demo/experiment1 from 0 to 11 itts.\n",
      "Fine tuning from /runs/demo/experiment1/weights.caffemodel.\n",
      "Classifying ./../vallist.txt from /runs/demo/experiment1/net.prototxt using snapshot_iter_11.caffemodel with bs:128, and 3 total instances.\n"
     ]
    },
    {
     "name": "stderr",
     "output_type": "stream",
     "text": [
      "                                                           "
     ]
    },
    {
     "name": "stdout",
     "output_type": "stream",
     "text": [
      "\r",
      "Classifying ./../testlist.txt from /runs/demo/experiment1/testnet.prototxt using snapshot_iter_11.caffemodel with bs:128, and 30 total instances.\n"
     ]
    },
    {
     "name": "stderr",
     "output_type": "stream",
     "text": [
      "                                                           "
     ]
    },
    {
     "name": "stdout",
     "output_type": "stream",
     "text": [
      "Running /runs/demo/experiment2 from 0 to 11 itts.\n",
      "Fine tuning from /runs/demo/experiment2/weights.caffemodel.\n",
      "Classifying ./../vallist2.txt from /runs/demo/experiment2/net.prototxt using snapshot_iter_11.caffemodel with bs:128, and 3 total instances.\n"
     ]
    },
    {
     "name": "stderr",
     "output_type": "stream",
     "text": [
      "                                                           "
     ]
    },
    {
     "name": "stdout",
     "output_type": "stream",
     "text": [
      "\r",
      "Classifying ./../testlist.txt from /runs/demo/experiment2/testnet.prototxt using snapshot_iter_11.caffemodel with bs:128, and 30 total instances.\n"
     ]
    },
    {
     "name": "stderr",
     "output_type": "stream",
     "text": [
      "                                                           "
     ]
    },
    {
     "name": "stdout",
     "output_type": "stream",
     "text": [
      "\r"
     ]
    }
   ],
   "source": [
    "reload(bct)\n",
    "bct.cycle_runs(run_params, test_params, [11, 11], 1)"
   ]
  },
  {
   "cell_type": "markdown",
   "metadata": {},
   "source": [
    "## Testing bct.classify_imlist"
   ]
  },
  {
   "cell_type": "code",
   "execution_count": 35,
   "metadata": {
    "collapsed": true
   },
   "outputs": [],
   "source": [
    "net = bct.load_model('/runs/ifcb_aq/alexnet_basic_lr2/', 'snapshot_iter_20000.caffemodel')"
   ]
  },
  {
   "cell_type": "code",
   "execution_count": 11,
   "metadata": {
    "collapsed": true
   },
   "outputs": [],
   "source": [
    "transformer = bct.Transformer()\n",
    "transformer.set_mean([179, 179, 179])\n",
    "transformer.set_scale(0.00390625)"
   ]
  },
  {
   "cell_type": "code",
   "execution_count": 52,
   "metadata": {
    "collapsed": false
   },
   "outputs": [
    {
     "name": "stdout",
     "output_type": "stream",
     "text": [
      "asterionellopsis\n"
     ]
    },
    {
     "data": {
      "text/plain": [
       "8.4198008"
      ]
     },
     "execution_count": 52,
     "metadata": {},
     "output_type": "execute_result"
    },
    {
     "data": {
      "image/png": "[encoded data removed]",
      "text/plain": [
       "<matplotlib.figure.Figure at 0x7f38e88fbdd0>"
      ]
     },
     "metadata": {},
     "output_type": "display_data"
    }
   ],
   "source": [
    "%matplotlib inline\n",
    "\n",
    "im = bmt.crop_center(np.asarray(Image.open('/runs/ifcb_aq/medianpad240/asterionellopsis/IFCB1_2009_001_001602_00899.png')), 226)\n",
    "(est, scores) = bct.classify_imlist([im], net, transformer, 1, 'fc8_ifcb', startlayer = 'conv1')\n",
    "labelset = pickle.load(open('/data/ifcb/labelset_1000.p', 'rb'))\n",
    "print labelset[est[0]]\n",
    "scores[0][labelset.index('asterionellopsis')]\n",
    "plt.plot(scores[0])\n",
    "scores[0][28]"
   ]
  },
  {
   "cell_type": "code",
   "execution_count": null,
   "metadata": {
    "collapsed": true
   },
   "outputs": [],
   "source": []
  }
 ],
 "metadata": {
  "kernelspec": {
   "display_name": "Python 2",
   "language": "python",
   "name": "python2"
  },
  "language_info": {
   "codemirror_mode": {
    "name": "ipython",
    "version": 2
   },
   "file_extension": ".py",
   "mimetype": "text/x-python",
   "name": "python",
   "nbconvert_exporter": "python",
   "pygments_lexer": "ipython2",
   "version": "2.7.10"
  }
 },
 "nbformat": 4,
 "nbformat_minor": 0
}
